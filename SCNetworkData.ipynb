{
 "cells": [
  {
   "cell_type": "code",
   "execution_count": null,
   "metadata": {},
   "outputs": [],
   "source": [
    "import numpy as np\n",
    "import scipy.stats as stats\n",
    "import matplotlib.pyplot as plt\n",
    "from random import seed\n",
    "from random import randint"
   ]
  },
  {
   "cell_type": "code",
   "execution_count": null,
   "metadata": {},
   "outputs": [],
   "source": [
    "import sys\n",
    "orig_stdout = sys.stdout\n",
    "f1 = open('Deterministic.py', 'w')\n",
    "sys.stdout = f1"
   ]
  },
  {
   "cell_type": "code",
   "execution_count": null,
   "metadata": {},
   "outputs": [],
   "source": [
    "import sys\n",
    "orig_stdout = sys.stdout\n",
    "f2 = open('Stochastic.py', 'w')\n",
    "sys.stdout = f2"
   ]
  },
  {
   "cell_type": "code",
   "execution_count": null,
   "metadata": {},
   "outputs": [],
   "source": [
    "import sys\n",
    "orig_stdout = sys.stdout\n",
    "f3 = open('StochasticTest750.py', 'w')\n",
    "sys.stdout = f3"
   ]
  },
  {
   "cell_type": "code",
   "execution_count": null,
   "metadata": {},
   "outputs": [],
   "source": [
    "#Initilialize number of Supply Chain network elements\n",
    "nS =  15 #No of suppliers\n",
    "nP = 25 #No of processing centers\n",
    "nC = 12 #No of customers\n",
    "nK = 3 #No of products"
   ]
  },
  {
   "cell_type": "code",
   "execution_count": null,
   "metadata": {},
   "outputs": [],
   "source": [
    "#Construct corresponding lists\n",
    "S = []\n",
    "P = []\n",
    "C = []\n",
    "K = []\n",
    "for i in range(nS):\n",
    "    S.append('S%d' %i)\n",
    "print('SSet =',S)\n",
    "for j in range(nP):\n",
    "    P.append('P%d' %j)\n",
    "print('PSet =',P)\n",
    "for l in range(nC):\n",
    "    C.append('C%d' %l)\n",
    "print('CSet =',C)\n",
    "for k in range(nK):\n",
    "    K.append('K%d' %k)\n",
    "print('KSet =',K)\n",
    "N = S + P + C\n",
    "print('NSet =',N)"
   ]
  },
  {
   "cell_type": "code",
   "execution_count": null,
   "metadata": {},
   "outputs": [],
   "source": [
    "#Populate SC network arcs - setting arcs from all suppliers to processing facilities & facilities to customers \n",
    "#Can be changed \n",
    "A = {}\n",
    "for i in S:\n",
    "    for j in P:\n",
    "        A[(i,j)] = 1\n",
    "for j in P:\n",
    "    for l in C:\n",
    "        A[(j,l)] = 1\n",
    "print('ASet =',A)"
   ]
  },
  {
   "cell_type": "code",
   "execution_count": null,
   "metadata": {},
   "outputs": [],
   "source": [
    "#Deterministic model values - Simple Test \n",
    "#Populate facility opening costs \n",
    "C_f = {'P0': 200, 'P1': 300, 'P2': 250, 'P3':350, 'P4':150, 'P5':190}\n",
    "print('C_f =',C_f)\n",
    "\n",
    "#Operational costs Q over each arc and for each product\n",
    "Q = {}\n",
    "for k in K:\n",
    "    for (i,j) in A:\n",
    "        Q[(i,j),k] = randint(1,10)\n",
    "print('Q =',Q)\n",
    "\n",
    "# Set demand for each customer and product\n",
    "D = {('C0','K0') : 5, ('C1','K0'):15, ('C2','K0') : 10}\n",
    "print('D =',D)\n",
    "\n",
    "# Set supply capacity for each supplier and product\n",
    "SP = {('S0','K0') :10, ('S1','K0') :10,('S2','K0') :10}\n",
    "print('SP =',SP)\n",
    "\n",
    "#Set processing unit capacity\n",
    "M = {'P0': 15, 'P1': 20, 'P2': 18, 'P3': 25, 'P4': 10, 'P5' : 19}\n",
    "print('M =',M)\n",
    "\n",
    "#Set per unit processing requirement at each processing center for each product\n",
    "R = {('P0','K0'): 1, ('P1','K0') : 1, ('P2','K0'): 1, ('P3','K0'): 1, ('P4','K0'): 1, ('P5','K0'): 1 }\n",
    "print('R =',R)"
   ]
  },
  {
   "cell_type": "code",
   "execution_count": null,
   "metadata": {},
   "outputs": [],
   "source": [
    "sys.stdout = orig_stdout\n",
    "f1.close()"
   ]
  },
  {
   "cell_type": "code",
   "execution_count": null,
   "metadata": {},
   "outputs": [],
   "source": [
    "# Stochastic Model Input - Simple Test Set - Generate scenarios from demand, cost and capacity distributions\n",
    "NoScenarios = 750\n",
    "Scen = []\n",
    "for s in range(NoScenarios):\n",
    "    Scen.append('SCEN%d' % s)\n",
    "print('Scen =',Scen)\n",
    "np.random.seed(111)\n",
    "\n",
    "# Generate demand scenarios - output array D\n",
    "d_mu = 15\n",
    "d_sigma = 2\n",
    "Dem = np.random.normal(d_mu, d_sigma, NoScenarios)\n",
    "D = {}\n",
    "\n",
    "for k in K:\n",
    "    index = 0\n",
    "    for l in C:\n",
    "        for s in Scen:\n",
    "            D[l,k,s] = Dem[index]\n",
    "            index += 1\n",
    "        index = 0\n",
    "print('D =',D)\n",
    "\n",
    "# Generate supply capacity scenarios - output array \n",
    "SP_mu = 25\n",
    "SP_sigma = 1\n",
    "SupplyCap = np.random.normal(SP_mu, SP_sigma, NoScenarios)\n",
    "SP = {} \n",
    "\n",
    "for k in K:\n",
    "    index = 0\n",
    "    for i in S:\n",
    "        for s in Scen:\n",
    "            SP[i,k,s] = SupplyCap[index]\n",
    "        index += 1\n",
    "print('SP =',SP)\n",
    "\n",
    "# Generate processing capacity scenarios\n",
    "M_mu = 25\n",
    "M_sigma = 2\n",
    "ProcessCap = np.random.normal( M_mu, M_sigma, NoScenarios )\n",
    "M = {}\n",
    "index = 0\n",
    "for s in Scen:\n",
    "    for j in P:\n",
    "        M[j,s] = ProcessCap[index]\n",
    "    index += 1\n",
    "print('M =',M)\n",
    "\n",
    "# Generate operational costs\n",
    "Q_mu = 5\n",
    "Q_sigma = 2\n",
    "Q = {}\n",
    "OpCost = np.random.normal( Q_mu, Q_sigma, len(A))\n",
    "for k in K:\n",
    "    index = 0\n",
    "    for (i,j) in A:\n",
    "        Q[(i,j),k] = OpCost[index]\n",
    "        index += 1\n",
    "print('Q =',Q)\n",
    "    \n",
    "# Facility opening costs \n",
    "C_f = {}\n",
    "C_mu = 250\n",
    "C_sigma = 10\n",
    "index = 0\n",
    "CostOpen = np.random.normal( C_mu, C_sigma, nP)\n",
    "for j in P:\n",
    "    C_f[j] = CostOpen[index]\n",
    "    index += 1\n",
    "print('C_f =',C_f)\n",
    "\n",
    "#Set per unit processing requirement at each processing center for each product\n",
    "R = {}\n",
    "for k in K:\n",
    "    for j in P:\n",
    "        R[j,k] = 1\n",
    "print('R =',R) "
   ]
  },
  {
   "cell_type": "code",
   "execution_count": null,
   "metadata": {},
   "outputs": [],
   "source": [
    "sys.stdout = orig_stdout\n",
    "f3.close()"
   ]
  }
 ],
 "metadata": {
  "kernelspec": {
   "display_name": "Python 3",
   "language": "python",
   "name": "python3"
  },
  "language_info": {
   "codemirror_mode": {
    "name": "ipython",
    "version": 3
   },
   "file_extension": ".py",
   "mimetype": "text/x-python",
   "name": "python",
   "nbconvert_exporter": "python",
   "pygments_lexer": "ipython3",
   "version": "3.7.1"
  }
 },
 "nbformat": 4,
 "nbformat_minor": 2
}
